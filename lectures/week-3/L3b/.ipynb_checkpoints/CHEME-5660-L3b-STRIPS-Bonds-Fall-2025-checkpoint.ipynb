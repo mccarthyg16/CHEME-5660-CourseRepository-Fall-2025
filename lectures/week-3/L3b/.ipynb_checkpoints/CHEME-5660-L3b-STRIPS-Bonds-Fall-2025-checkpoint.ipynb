{
 "cells": [
  {
   "cell_type": "markdown",
   "id": "21ab346d",
   "metadata": {},
   "source": [
    "# L3b: Market Inference of Future Interest Rates"
   ]
  }
 ],
 "metadata": {
  "language_info": {
   "name": "python"
  }
 },
 "nbformat": 4,
 "nbformat_minor": 5
}
